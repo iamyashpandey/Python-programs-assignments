import numpy as np

NUMPY DATA TYPES

arr = np.array([1,2,3],dtype=np.float64)
print(arr)
print("Data type:",arr.dtype)

[1. 2. 3.]
Data type: float64

ARITHMETIC OPERATORS

a = np.array([1, 2, 3])
b = np.array([4, 5, 6])

print("Addition:", a + b)
print("Subtraction:", a - b)
print("Multiplication:", a * b)
print("Division:", a / b)

Addition: [5 7 9]
Subtraction: [-3 -3 -3]
Multiplication: [ 4 10 18]
Division: [0.25 0.4  0.5 ]

ARRAY INDEXING AND SLICING

arr = np.array([10,20,30,40,50])
#Access elements by index 
print("First element :",arr[0])
print("Second element :",arr[-1])
#slicing
print("First Three Elements:", arr[:3])
print("Elements from Index 2 to 4:", arr[2:5])

First element : 10
Second element : 50
First Three Elements: [10 20 30]
Elements from Index 2 to 4: [30 40 50]

BROADCASTING ARRAYS

arr = np.array([1, 2, 3])
print("Array + 10:", arr + 10)

Array + 10: [11 12 13]

a = np.array([[1, 2, 3], [4, 5, 6]])
b = np.array([10, 20, 30])

print("Broadcasted Addition:\n", a + b)

Broadcasted Addition:
 [[11 22 33]
 [14 25 36]]

MATRIX MULTIPLICATION

A  = np.array([[1,2],[3,4]])
B = np.array([[5,6],[7,8]])
# element wise multiplication 
print("element wise multiplication:\n",A*B)
# Matrix Multiplication(dot product)
print("Matrix multiplication:\n",np.dot(A,B))

element wise multiplication:
 [[ 5 12]
 [21 32]]
Matrix multiplication:
 [[19 22]
 [43 50]]

TRANSPOSE

A = np.array([[1, 2], [3, 4]])
print("Original Matrix:\n", A)
print("Transpose:\n", A.T)

Original Matrix:
 [[1 2]
 [3 4]]
Transpose:
 [[1 3]
 [2 4]]

INVERSE

from numpy.linalg import inv

A = np.array([[1, 2], [3, 4]])
print("Inverse:\n", inv(A))

Inverse:
 [[-2.   1. ]
 [ 1.5 -0.5]]

