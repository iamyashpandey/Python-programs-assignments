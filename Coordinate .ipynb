
we have coordinate of following we need to find distance between nodes and store the resut

O = (0,0)
P = (1,2)
Q = (1,4)
R = (4,6)
S = (7,8)
# OR
X = [0 1 1 4 7]
Y = [0 2 4 6 8]
# OR 
O1 = {x:0,y:0}
P1 = {x:1,y:2}
P2 = {x:1,y:4}
P3 = {x:4,y:6}
P4 = {x:7,y:8}
# OR
Points = [ {x:0,y:0}, {x:1,y:2}, {x:1,y:4}, {x:4,y:6}, {x:7,y:8}]

     
