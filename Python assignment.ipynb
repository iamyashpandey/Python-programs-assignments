

HELLO WORLD PROGRAM

print("Hello World!")

Hello World!

Write a Python program that takes a user's first and last name as input and prints them in reverse order with a space between them.

# Taking user input

a = input("Enter Your First Name\t:")
b = input("Enter Your Last Name\t:")


# using reverse string operation to revese the string and print the reversed values

print(a[::-1] , b[::-1])

 hsaY yednaP

# capitalize()	Converts the first character to upper case

print(a.capitalize())

# endswith()	Returns true if the string ends with the specified value

print(b.endswith("g"))

Yash 
False

Write a Python program that takes an input number from the user, converts it to different numeric data types (integer, float, and complex), and displays the converted values.

# Take input number from the user
num = input("Enter a number: ")

# Convert to different numeric types
try:
    float_num = float(num)   # Convert to float
    int_num = int(float_num)  # Convert to integer
    complex_num = complex(float_num)  # Convert to complex

    # Display the converted values
    print(f"Integer: {int_num}")
    print(f"Float: {float_num}")
    print(f"Complex: {complex_num}")

except ValueError:
    print("Invalid input! Please enter a valid numeric value.")

Integer: 69
Float: 69.0
Complex: (69+0j)

# taking user input as l for length and w for width

l = float(input("Enter the length of rectangle"))
w = float(input("Enter the width of rectangle"))

area = l*w

print(f"{area}")

6.0

print("{:.2f}".format(area))

6.00

Write a Python script that takes three numbers as input and prints their average using the % method for string formatting.

num1 = float(input("Enter the first no.\t: "))
num2 = float(input("Enter the second no.\t: "))
num3 = float(input("Enter the third no.\t: "))

avg = (num1 + num2 + num3) / 3

print("The average of the three numbers is: %.2f" % avg)

The average of the three numbers is: 26.67

Write a Python program that asks the user for a number and determines whether it is positive, negative, or zero.

# taking user input 

num=int(input("Enter the number: "))

# using if else statement to determine number is positive, negative or zero

if (num>0):print("The Number is Postive")
elif (num==0):print("The Number is Zero")
else: print("The Number is Negative")

The Number is Postive

Implement a loop that continues to ask the user for a number until they enter 'exit'

while True:
   
    input_num = input("Enter a number here (or 'exit' to quit): ")

    if input_num.lower() == 'exit':
        print("Exiting the program.")
        
        break

    try:
        
        number = float(input_num)
        
        if number > 0:
            print("Positive number")
        elif number < 0:
            print("Negative number")
        else:
            print("Zero")
    except ValueError:
    
        print("Invalid input. Please enter a valid number or 'exit'.")
        

Positive number
Positive number
Negative number
Exiting the program.

Create a Python script that takes two numbers as input and prints whether both numbers are even, odd, or one of each using relational and logical operators.

# Taking two numbers as input from the user

num1 = int(input("Enter the first number: "))
num2 = int(input("Enter the second number: "))

# Checking if both numbers are even

# used modulas and equality to operators to determine numbers as even or odd

if num1 % 2 == 0 and num2 % 2 == 0:
    
    print("Both numbers are even.")
    
    
# Checking if both numbers are odd

# used modulas and not equal to operators to determine numbers as even or odd

elif num1 % 2 != 0 and num2 % 2 != 0: 
    
    print("Both numbers are odd.")
    
 
# If one is even and the other is odd
else: print("One number is even, and the other is odd.")

One number is even, and the other is odd.

Write a Python program that takes an integer input and prints its binary, octal, and hexadecimal equivalents using a for loop and bitwise operators.

# Taking an integer input from the user
number = int(input("Enter an integer: "))

# Convert to binary
binary = ""
n = number
while n > 0:
    remainder = n % 2
    binary = str(remainder) + binary
    n = n // 2

# Convert to octal
octal = ""
n = number
while n > 0:
    remainder = n % 8
    octal = str(remainder) + octal
    n = n // 8

# Convert to hexadecimal
hexadecimal = ""
n = number
hex_digits = "0123456789ABCDEF"
while n > 0:
    remainder = n % 16
    hexadecimal = hex_digits[remainder] + hexadecimal
    n = n // 16

# Print the results
print(f"Binary: {binary}")
print(f"Octal: {octal}")
print(f"Hexadecimal: {hexadecimal}")

Binary: 1100
Octal: 14
Hexadecimal: C

